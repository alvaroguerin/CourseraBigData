{
 "cells": [
  {
   "cell_type": "code",
   "execution_count": 5,
   "metadata": {
    "collapsed": false
   },
   "outputs": [
    {
     "data": {
      "text/plain": [
       "<matplotlib.figure.Figure at 0x117412d10>"
      ]
     },
     "metadata": {},
     "output_type": "display_data"
    }
   ],
   "source": [
    "import pandas as pd\n",
    "#from pyspark.mllib.clustering import KMeans, KMeansModel\n",
    "import numpy as np\n",
    "\n",
    "import matplotlib.pyplot as plt\n",
    "import matplotlib\n",
    "matplotlib.style.use('ggplot')\n",
    "%matplotlib inline\n",
    "plt.figure();"
   ]
  },
  {
   "cell_type": "code",
   "execution_count": 6,
   "metadata": {
    "collapsed": false
   },
   "outputs": [
    {
     "data": {
      "text/html": [
       "<div>\n",
       "<table border=\"1\" class=\"dataframe\">\n",
       "  <thead>\n",
       "    <tr style=\"text-align: right;\">\n",
       "      <th></th>\n",
       "      <th>timestamp</th>\n",
       "      <th>txId</th>\n",
       "      <th>userSessionId</th>\n",
       "      <th>teamId</th>\n",
       "      <th>userId</th>\n",
       "      <th>adId</th>\n",
       "      <th>adCategory</th>\n",
       "      <th>adCount</th>\n",
       "    </tr>\n",
       "  </thead>\n",
       "  <tbody>\n",
       "    <tr>\n",
       "      <th>0</th>\n",
       "      <td>2016-05-26 15:13:22</td>\n",
       "      <td>5974</td>\n",
       "      <td>5809</td>\n",
       "      <td>27</td>\n",
       "      <td>611</td>\n",
       "      <td>2</td>\n",
       "      <td>electronics</td>\n",
       "      <td>1</td>\n",
       "    </tr>\n",
       "    <tr>\n",
       "      <th>1</th>\n",
       "      <td>2016-05-26 15:17:24</td>\n",
       "      <td>5976</td>\n",
       "      <td>5705</td>\n",
       "      <td>18</td>\n",
       "      <td>1874</td>\n",
       "      <td>21</td>\n",
       "      <td>movies</td>\n",
       "      <td>1</td>\n",
       "    </tr>\n",
       "    <tr>\n",
       "      <th>2</th>\n",
       "      <td>2016-05-26 15:22:52</td>\n",
       "      <td>5978</td>\n",
       "      <td>5791</td>\n",
       "      <td>53</td>\n",
       "      <td>2139</td>\n",
       "      <td>25</td>\n",
       "      <td>computers</td>\n",
       "      <td>1</td>\n",
       "    </tr>\n",
       "    <tr>\n",
       "      <th>3</th>\n",
       "      <td>2016-05-26 15:22:57</td>\n",
       "      <td>5973</td>\n",
       "      <td>5756</td>\n",
       "      <td>63</td>\n",
       "      <td>212</td>\n",
       "      <td>10</td>\n",
       "      <td>fashion</td>\n",
       "      <td>1</td>\n",
       "    </tr>\n",
       "    <tr>\n",
       "      <th>4</th>\n",
       "      <td>2016-05-26 15:22:58</td>\n",
       "      <td>5980</td>\n",
       "      <td>5920</td>\n",
       "      <td>9</td>\n",
       "      <td>1027</td>\n",
       "      <td>20</td>\n",
       "      <td>clothing</td>\n",
       "      <td>1</td>\n",
       "    </tr>\n",
       "  </tbody>\n",
       "</table>\n",
       "</div>"
      ],
      "text/plain": [
       "             timestamp  txId  userSessionId  teamId  userId  adId  \\\n",
       "0  2016-05-26 15:13:22  5974           5809      27     611     2   \n",
       "1  2016-05-26 15:17:24  5976           5705      18    1874    21   \n",
       "2  2016-05-26 15:22:52  5978           5791      53    2139    25   \n",
       "3  2016-05-26 15:22:57  5973           5756      63     212    10   \n",
       "4  2016-05-26 15:22:58  5980           5920       9    1027    20   \n",
       "\n",
       "    adCategory  adCount  \n",
       "0  electronics        1  \n",
       "1       movies        1  \n",
       "2    computers        1  \n",
       "3      fashion        1  \n",
       "4     clothing        1  "
      ]
     },
     "execution_count": 6,
     "metadata": {},
     "output_type": "execute_result"
    }
   ],
   "source": [
    "adclicksDF = pd.read_csv(\"../from_coursera/big_data_capstone_datasets_and_scripts/flamingo-data/ad-clicks.csv\")\n",
    "adclicksDF = adclicksDF.rename(columns=lambda x: x.strip())\n",
    "adclicksDF['adCount'] = 1\n",
    "adclicksDF.head(5)"
   ]
  },
  {
   "cell_type": "code",
   "execution_count": 7,
   "metadata": {
    "collapsed": false
   },
   "outputs": [
    {
     "data": {
      "text/html": [
       "<div>\n",
       "<table border=\"1\" class=\"dataframe\">\n",
       "  <thead>\n",
       "    <tr style=\"text-align: right;\">\n",
       "      <th></th>\n",
       "      <th>timestamp</th>\n",
       "      <th>txId</th>\n",
       "      <th>userSessionId</th>\n",
       "      <th>team</th>\n",
       "      <th>userId</th>\n",
       "      <th>buyId</th>\n",
       "      <th>price</th>\n",
       "    </tr>\n",
       "  </thead>\n",
       "  <tbody>\n",
       "    <tr>\n",
       "      <th>0</th>\n",
       "      <td>2016-05-26 15:36:54</td>\n",
       "      <td>6004</td>\n",
       "      <td>5820</td>\n",
       "      <td>9</td>\n",
       "      <td>1300</td>\n",
       "      <td>2</td>\n",
       "      <td>3.0</td>\n",
       "    </tr>\n",
       "    <tr>\n",
       "      <th>1</th>\n",
       "      <td>2016-05-26 15:36:54</td>\n",
       "      <td>6005</td>\n",
       "      <td>5775</td>\n",
       "      <td>35</td>\n",
       "      <td>868</td>\n",
       "      <td>4</td>\n",
       "      <td>10.0</td>\n",
       "    </tr>\n",
       "    <tr>\n",
       "      <th>2</th>\n",
       "      <td>2016-05-26 15:36:54</td>\n",
       "      <td>6006</td>\n",
       "      <td>5679</td>\n",
       "      <td>97</td>\n",
       "      <td>819</td>\n",
       "      <td>5</td>\n",
       "      <td>20.0</td>\n",
       "    </tr>\n",
       "    <tr>\n",
       "      <th>3</th>\n",
       "      <td>2016-05-26 16:36:54</td>\n",
       "      <td>6067</td>\n",
       "      <td>5665</td>\n",
       "      <td>18</td>\n",
       "      <td>121</td>\n",
       "      <td>2</td>\n",
       "      <td>3.0</td>\n",
       "    </tr>\n",
       "    <tr>\n",
       "      <th>4</th>\n",
       "      <td>2016-05-26 17:06:54</td>\n",
       "      <td>6093</td>\n",
       "      <td>5709</td>\n",
       "      <td>11</td>\n",
       "      <td>2222</td>\n",
       "      <td>5</td>\n",
       "      <td>20.0</td>\n",
       "    </tr>\n",
       "  </tbody>\n",
       "</table>\n",
       "</div>"
      ],
      "text/plain": [
       "             timestamp  txId  userSessionId  team  userId  buyId  price\n",
       "0  2016-05-26 15:36:54  6004           5820     9    1300      2    3.0\n",
       "1  2016-05-26 15:36:54  6005           5775    35     868      4   10.0\n",
       "2  2016-05-26 15:36:54  6006           5679    97     819      5   20.0\n",
       "3  2016-05-26 16:36:54  6067           5665    18     121      2    3.0\n",
       "4  2016-05-26 17:06:54  6093           5709    11    2222      5   20.0"
      ]
     },
     "execution_count": 7,
     "metadata": {},
     "output_type": "execute_result"
    }
   ],
   "source": [
    "buyclicksDF = pd.read_csv(\"../from_coursera/big_data_capstone_datasets_and_scripts/flamingo-data/buy-clicks.csv\")\n",
    "buyclicksDF = buyclicksDF.rename(columns=lambda x: x.strip())\n",
    "buyclicksDF.head(5)"
   ]
  },
  {
   "cell_type": "code",
   "execution_count": 8,
   "metadata": {
    "collapsed": false
   },
   "outputs": [
    {
     "data": {
      "text/html": [
       "<div>\n",
       "<table border=\"1\" class=\"dataframe\">\n",
       "  <thead>\n",
       "    <tr style=\"text-align: right;\">\n",
       "      <th></th>\n",
       "      <th>timestamp</th>\n",
       "      <th>userSessionId</th>\n",
       "      <th>userId</th>\n",
       "      <th>teamId</th>\n",
       "      <th>assignmentId</th>\n",
       "      <th>sessionType</th>\n",
       "      <th>teamLevel</th>\n",
       "      <th>platformType</th>\n",
       "    </tr>\n",
       "  </thead>\n",
       "  <tbody>\n",
       "    <tr>\n",
       "      <th>0</th>\n",
       "      <td>2016-05-26 14:47:30</td>\n",
       "      <td>5675</td>\n",
       "      <td>170</td>\n",
       "      <td>90</td>\n",
       "      <td>5423</td>\n",
       "      <td>start</td>\n",
       "      <td>1</td>\n",
       "      <td>iphone</td>\n",
       "    </tr>\n",
       "    <tr>\n",
       "      <th>1</th>\n",
       "      <td>2016-05-27 00:06:54</td>\n",
       "      <td>5675</td>\n",
       "      <td>170</td>\n",
       "      <td>90</td>\n",
       "      <td>5423</td>\n",
       "      <td>end</td>\n",
       "      <td>1</td>\n",
       "      <td>iphone</td>\n",
       "    </tr>\n",
       "    <tr>\n",
       "      <th>2</th>\n",
       "      <td>2016-05-26 14:43:09</td>\n",
       "      <td>5795</td>\n",
       "      <td>835</td>\n",
       "      <td>39</td>\n",
       "      <td>5300</td>\n",
       "      <td>start</td>\n",
       "      <td>1</td>\n",
       "      <td>android</td>\n",
       "    </tr>\n",
       "    <tr>\n",
       "      <th>3</th>\n",
       "      <td>2016-05-27 08:06:54</td>\n",
       "      <td>5795</td>\n",
       "      <td>835</td>\n",
       "      <td>39</td>\n",
       "      <td>5300</td>\n",
       "      <td>end</td>\n",
       "      <td>1</td>\n",
       "      <td>android</td>\n",
       "    </tr>\n",
       "    <tr>\n",
       "      <th>4</th>\n",
       "      <td>2016-05-26 14:47:20</td>\n",
       "      <td>5833</td>\n",
       "      <td>624</td>\n",
       "      <td>2</td>\n",
       "      <td>5529</td>\n",
       "      <td>start</td>\n",
       "      <td>1</td>\n",
       "      <td>iphone</td>\n",
       "    </tr>\n",
       "  </tbody>\n",
       "</table>\n",
       "</div>"
      ],
      "text/plain": [
       "             timestamp  userSessionId  userId  teamId  assignmentId  \\\n",
       "0  2016-05-26 14:47:30           5675     170      90          5423   \n",
       "1  2016-05-27 00:06:54           5675     170      90          5423   \n",
       "2  2016-05-26 14:43:09           5795     835      39          5300   \n",
       "3  2016-05-27 08:06:54           5795     835      39          5300   \n",
       "4  2016-05-26 14:47:20           5833     624       2          5529   \n",
       "\n",
       "  sessionType  teamLevel platformType  \n",
       "0       start          1       iphone  \n",
       "1         end          1       iphone  \n",
       "2       start          1      android  \n",
       "3         end          1      android  \n",
       "4       start          1       iphone  "
      ]
     },
     "execution_count": 8,
     "metadata": {},
     "output_type": "execute_result"
    }
   ],
   "source": [
    "sesDF = pd.read_csv(\"../from_coursera/big_data_capstone_datasets_and_scripts/flamingo-data/user-session.csv\")\n",
    "sesDF = sesDF.rename(columns=lambda x: x.strip())\n",
    "sesDF.head(5)"
   ]
  },
  {
   "cell_type": "code",
   "execution_count": 9,
   "metadata": {
    "collapsed": false
   },
   "outputs": [
    {
     "data": {
      "text/html": [
       "<div>\n",
       "<table border=\"1\" class=\"dataframe\">\n",
       "  <thead>\n",
       "    <tr style=\"text-align: right;\">\n",
       "      <th></th>\n",
       "      <th>userId</th>\n",
       "      <th>userSessionId</th>\n",
       "      <th>start</th>\n",
       "      <th>end</th>\n",
       "      <th>duration</th>\n",
       "    </tr>\n",
       "  </thead>\n",
       "  <tbody>\n",
       "    <tr>\n",
       "      <th>0</th>\n",
       "      <td>170</td>\n",
       "      <td>5675</td>\n",
       "      <td>2016-05-26 14:47:30</td>\n",
       "      <td>2016-05-27 00:06:54</td>\n",
       "      <td>9.0</td>\n",
       "    </tr>\n",
       "    <tr>\n",
       "      <th>1</th>\n",
       "      <td>835</td>\n",
       "      <td>5795</td>\n",
       "      <td>2016-05-26 14:43:09</td>\n",
       "      <td>2016-05-27 08:06:54</td>\n",
       "      <td>17.0</td>\n",
       "    </tr>\n",
       "    <tr>\n",
       "      <th>2</th>\n",
       "      <td>624</td>\n",
       "      <td>5833</td>\n",
       "      <td>2016-05-26 14:47:20</td>\n",
       "      <td>2016-05-27 23:06:54</td>\n",
       "      <td>32.0</td>\n",
       "    </tr>\n",
       "    <tr>\n",
       "      <th>3</th>\n",
       "      <td>514</td>\n",
       "      <td>5877</td>\n",
       "      <td>2016-05-26 14:37:33</td>\n",
       "      <td>2016-05-27 23:06:54</td>\n",
       "      <td>32.0</td>\n",
       "    </tr>\n",
       "    <tr>\n",
       "      <th>4</th>\n",
       "      <td>2103</td>\n",
       "      <td>5902</td>\n",
       "      <td>2016-05-26 14:36:55</td>\n",
       "      <td>2016-05-27 23:06:54</td>\n",
       "      <td>32.0</td>\n",
       "    </tr>\n",
       "  </tbody>\n",
       "</table>\n",
       "</div>"
      ],
      "text/plain": [
       "   userId  userSessionId                start                  end  duration\n",
       "0     170           5675  2016-05-26 14:47:30  2016-05-27 00:06:54       9.0\n",
       "1     835           5795  2016-05-26 14:43:09  2016-05-27 08:06:54      17.0\n",
       "2     624           5833  2016-05-26 14:47:20  2016-05-27 23:06:54      32.0\n",
       "3     514           5877  2016-05-26 14:37:33  2016-05-27 23:06:54      32.0\n",
       "4    2103           5902  2016-05-26 14:36:55  2016-05-27 23:06:54      32.0"
      ]
     },
     "execution_count": 9,
     "metadata": {},
     "output_type": "execute_result"
    }
   ],
   "source": [
    "# Calculate Time Difference\n",
    "sessStart = sesDF[sesDF[\"sessionType\"] == \"start\"].reset_index()\n",
    "sessStart = sessStart[[\"userId\",\"userSessionId\",\"timestamp\"]]\n",
    "sessStart.columns = [\"userId\",\"userSessionId\",\"start\"]\n",
    "sessEnd =  sesDF[sesDF[\"sessionType\"] == \"end\"].reset_index()\n",
    "sessEnd = sessEnd[[\"userSessionId\",\"timestamp\"]]\n",
    "sessEnd.columns = [\"userSessionId\",\"end\"]\n",
    "sessCombined = sessStart.merge(sessEnd, on='userSessionId')\n",
    "sessCombined[\"duration\"] = (sessCombined[\"end\"].apply(pd.Timestamp)-sessCombined[\"start\"].apply(pd.Timestamp)).astype('timedelta64[h]')\n",
    "sessCombined.head(5)"
   ]
  },
  {
   "cell_type": "code",
   "execution_count": 10,
   "metadata": {
    "collapsed": false
   },
   "outputs": [
    {
     "data": {
      "text/plain": [
       "<matplotlib.axes._subplots.AxesSubplot at 0x117412190>"
      ]
     },
     "execution_count": 10,
     "metadata": {},
     "output_type": "execute_result"
    },
    {
     "data": {
      "image/png": "[encoded data removed]",
      "text/plain": [
       "<matplotlib.figure.Figure at 0x1174127d0>"
      ]
     },
     "metadata": {},
     "output_type": "display_data"
    }
   ],
   "source": [
    "sessCombined.groupby(\"userId\")['duration'].sum().plot.hist(bins=10)"
   ]
  },
  {
   "cell_type": "code",
   "execution_count": 91,
   "metadata": {
    "collapsed": false
   },
   "outputs": [
    {
     "data": {
      "text/plain": [
       "<matplotlib.axes._subplots.AxesSubplot at 0x12e8e5dd0>"
      ]
     },
     "execution_count": 91,
     "metadata": {},
     "output_type": "execute_result"
    },
    {
     "data": {
      "image/png": "[encoded data removed]",
      "text/plain": [
       "<matplotlib.figure.Figure at 0x1117c0090>"
      ]
     },
     "metadata": {},
     "output_type": "display_data"
    }
   ],
   "source": [
    "sessCombined.groupby(\"userId\")['duration'].mean().plot.hist(bins=10)"
   ]
  },
  {
   "cell_type": "code",
   "execution_count": 11,
   "metadata": {
    "collapsed": false
   },
   "outputs": [
    {
     "data": {
      "text/html": [
       "<div>\n",
       "<table border=\"1\" class=\"dataframe\">\n",
       "  <thead>\n",
       "    <tr style=\"text-align: right;\">\n",
       "      <th></th>\n",
       "      <th>userId</th>\n",
       "      <th>avg_hr</th>\n",
       "      <th>ttl_hr</th>\n",
       "    </tr>\n",
       "  </thead>\n",
       "  <tbody>\n",
       "    <tr>\n",
       "      <th>0</th>\n",
       "      <td>0</td>\n",
       "      <td>43.500000</td>\n",
       "      <td>174.0</td>\n",
       "    </tr>\n",
       "    <tr>\n",
       "      <th>1</th>\n",
       "      <td>1</td>\n",
       "      <td>62.285714</td>\n",
       "      <td>436.0</td>\n",
       "    </tr>\n",
       "    <tr>\n",
       "      <th>2</th>\n",
       "      <td>2</td>\n",
       "      <td>63.600000</td>\n",
       "      <td>318.0</td>\n",
       "    </tr>\n",
       "    <tr>\n",
       "      <th>3</th>\n",
       "      <td>6</td>\n",
       "      <td>74.000000</td>\n",
       "      <td>74.0</td>\n",
       "    </tr>\n",
       "    <tr>\n",
       "      <th>4</th>\n",
       "      <td>8</td>\n",
       "      <td>40.000000</td>\n",
       "      <td>80.0</td>\n",
       "    </tr>\n",
       "  </tbody>\n",
       "</table>\n",
       "</div>"
      ],
      "text/plain": [
       "   userId     avg_hr  ttl_hr\n",
       "0       0  43.500000   174.0\n",
       "1       1  62.285714   436.0\n",
       "2       2  63.600000   318.0\n",
       "3       6  74.000000    74.0\n",
       "4       8  40.000000    80.0"
      ]
     },
     "execution_count": 11,
     "metadata": {},
     "output_type": "execute_result"
    }
   ],
   "source": [
    "sessTotal = sessCombined.groupby(\"userId\")['duration'].sum().reset_index()\n",
    "sessAvg = sessCombined.groupby(\"userId\")['duration'].mean().reset_index()\n",
    "duration = sessAvg.merge(sessTotal, on=\"userId\")\n",
    "duration.columns = [\"userId\",\"avg_hr\",\"ttl_hr\"]\n",
    "duration.head(5)"
   ]
  },
  {
   "cell_type": "code",
   "execution_count": 12,
   "metadata": {
    "collapsed": false
   },
   "outputs": [
    {
     "data": {
      "text/html": [
       "<div>\n",
       "<table border=\"1\" class=\"dataframe\">\n",
       "  <thead>\n",
       "    <tr style=\"text-align: right;\">\n",
       "      <th></th>\n",
       "      <th>timestamp</th>\n",
       "      <th>clickId</th>\n",
       "      <th>userId</th>\n",
       "      <th>userSessionId</th>\n",
       "      <th>isHit</th>\n",
       "      <th>teamId</th>\n",
       "      <th>teamLevel</th>\n",
       "    </tr>\n",
       "  </thead>\n",
       "  <tbody>\n",
       "    <tr>\n",
       "      <th>0</th>\n",
       "      <td>2016-05-26 15:06:55</td>\n",
       "      <td>105</td>\n",
       "      <td>1038</td>\n",
       "      <td>5916</td>\n",
       "      <td>0</td>\n",
       "      <td>25</td>\n",
       "      <td>1</td>\n",
       "    </tr>\n",
       "    <tr>\n",
       "      <th>1</th>\n",
       "      <td>2016-05-26 15:07:09</td>\n",
       "      <td>154</td>\n",
       "      <td>1099</td>\n",
       "      <td>5898</td>\n",
       "      <td>0</td>\n",
       "      <td>44</td>\n",
       "      <td>1</td>\n",
       "    </tr>\n",
       "    <tr>\n",
       "      <th>2</th>\n",
       "      <td>2016-05-26 15:07:14</td>\n",
       "      <td>229</td>\n",
       "      <td>899</td>\n",
       "      <td>5757</td>\n",
       "      <td>0</td>\n",
       "      <td>71</td>\n",
       "      <td>1</td>\n",
       "    </tr>\n",
       "    <tr>\n",
       "      <th>3</th>\n",
       "      <td>2016-05-26 15:07:14</td>\n",
       "      <td>322</td>\n",
       "      <td>2197</td>\n",
       "      <td>5854</td>\n",
       "      <td>0</td>\n",
       "      <td>99</td>\n",
       "      <td>1</td>\n",
       "    </tr>\n",
       "    <tr>\n",
       "      <th>4</th>\n",
       "      <td>2016-05-26 15:07:20</td>\n",
       "      <td>22</td>\n",
       "      <td>1362</td>\n",
       "      <td>5739</td>\n",
       "      <td>0</td>\n",
       "      <td>13</td>\n",
       "      <td>1</td>\n",
       "    </tr>\n",
       "  </tbody>\n",
       "</table>\n",
       "</div>"
      ],
      "text/plain": [
       "             timestamp  clickId  userId  userSessionId  isHit  teamId  \\\n",
       "0  2016-05-26 15:06:55      105    1038           5916      0      25   \n",
       "1  2016-05-26 15:07:09      154    1099           5898      0      44   \n",
       "2  2016-05-26 15:07:14      229     899           5757      0      71   \n",
       "3  2016-05-26 15:07:14      322    2197           5854      0      99   \n",
       "4  2016-05-26 15:07:20       22    1362           5739      0      13   \n",
       "\n",
       "   teamLevel  \n",
       "0          1  \n",
       "1          1  \n",
       "2          1  \n",
       "3          1  \n",
       "4          1  "
      ]
     },
     "execution_count": 12,
     "metadata": {},
     "output_type": "execute_result"
    }
   ],
   "source": [
    "gameDF = pd.read_csv(\"../from_coursera/big_data_capstone_datasets_and_scripts/flamingo-data/game-clicks.csv\")\n",
    "gameDF = gameDF.rename(columns=lambda x: x.strip())\n",
    "gameDF.head(5)"
   ]
  },
  {
   "cell_type": "code",
   "execution_count": 103,
   "metadata": {
    "collapsed": false
   },
   "outputs": [
    {
     "data": {
      "text/plain": [
       "<matplotlib.axes._subplots.AxesSubplot at 0x1332a4b10>"
      ]
     },
     "execution_count": 103,
     "metadata": {},
     "output_type": "execute_result"
    },
    {
     "data": {
      "image/png": "[encoded data removed]",
      "text/plain": [
       "<matplotlib.figure.Figure at 0x133312090>"
      ]
     },
     "metadata": {},
     "output_type": "display_data"
    }
   ],
   "source": [
    "gameDF.groupby(\"userId\")['teamLevel'].mean().plot.hist(bins=10)"
   ]
  },
  {
   "cell_type": "code",
   "execution_count": 48,
   "metadata": {
    "collapsed": false
   },
   "outputs": [
    {
     "data": {
      "text/html": [
       "<div>\n",
       "<table border=\"1\" class=\"dataframe\">\n",
       "  <thead>\n",
       "    <tr style=\"text-align: right;\">\n",
       "      <th></th>\n",
       "      <th>userSessionId</th>\n",
       "      <th>click</th>\n",
       "      <th>userId</th>\n",
       "      <th>start</th>\n",
       "      <th>end</th>\n",
       "      <th>duration</th>\n",
       "      <th>click_per_hr</th>\n",
       "    </tr>\n",
       "  </thead>\n",
       "  <tbody>\n",
       "    <tr>\n",
       "      <th>0</th>\n",
       "      <td>5648</td>\n",
       "      <td>69</td>\n",
       "      <td>812</td>\n",
       "      <td>2016-05-26 15:01:14</td>\n",
       "      <td>2016-05-27 23:06:54</td>\n",
       "      <td>32.0</td>\n",
       "      <td>2.15625</td>\n",
       "    </tr>\n",
       "    <tr>\n",
       "      <th>1</th>\n",
       "      <td>5649</td>\n",
       "      <td>31</td>\n",
       "      <td>1658</td>\n",
       "      <td>2016-05-26 14:39:49</td>\n",
       "      <td>2016-05-27 23:06:54</td>\n",
       "      <td>32.0</td>\n",
       "      <td>0.96875</td>\n",
       "    </tr>\n",
       "    <tr>\n",
       "      <th>2</th>\n",
       "      <td>5650</td>\n",
       "      <td>26</td>\n",
       "      <td>1589</td>\n",
       "      <td>2016-05-26 15:05:08</td>\n",
       "      <td>2016-05-27 23:06:54</td>\n",
       "      <td>32.0</td>\n",
       "      <td>0.81250</td>\n",
       "    </tr>\n",
       "    <tr>\n",
       "      <th>3</th>\n",
       "      <td>5651</td>\n",
       "      <td>35</td>\n",
       "      <td>1863</td>\n",
       "      <td>2016-05-26 14:58:07</td>\n",
       "      <td>2016-05-27 23:06:54</td>\n",
       "      <td>32.0</td>\n",
       "      <td>1.09375</td>\n",
       "    </tr>\n",
       "    <tr>\n",
       "      <th>4</th>\n",
       "      <td>5652</td>\n",
       "      <td>39</td>\n",
       "      <td>937</td>\n",
       "      <td>2016-05-26 14:54:15</td>\n",
       "      <td>2016-05-27 23:06:54</td>\n",
       "      <td>32.0</td>\n",
       "      <td>1.21875</td>\n",
       "    </tr>\n",
       "  </tbody>\n",
       "</table>\n",
       "</div>"
      ],
      "text/plain": [
       "   userSessionId  click  userId                start                  end  \\\n",
       "0           5648     69     812  2016-05-26 15:01:14  2016-05-27 23:06:54   \n",
       "1           5649     31    1658  2016-05-26 14:39:49  2016-05-27 23:06:54   \n",
       "2           5650     26    1589  2016-05-26 15:05:08  2016-05-27 23:06:54   \n",
       "3           5651     35    1863  2016-05-26 14:58:07  2016-05-27 23:06:54   \n",
       "4           5652     39     937  2016-05-26 14:54:15  2016-05-27 23:06:54   \n",
       "\n",
       "   duration  click_per_hr  \n",
       "0      32.0       2.15625  \n",
       "1      32.0       0.96875  \n",
       "2      32.0       0.81250  \n",
       "3      32.0       1.09375  \n",
       "4      32.0       1.21875  "
      ]
     },
     "execution_count": 48,
     "metadata": {},
     "output_type": "execute_result"
    }
   ],
   "source": [
    "gameDF['click'] = 1\n",
    "clickSessDF = gameDF.groupby(\"userSessionId\")['click'].sum().reset_index()\n",
    "clickCombined = clickSessDF.merge(sessCombined,on='userSessionId')\n",
    "# remove duration = 0\n",
    "clickCombined = clickCombined[clickCombined['duration'] > 0]\n",
    "clickCombined['click_per_hr'] = clickCombined['click'] / clickCombined['duration']\n",
    "clickCombined.head(5)"
   ]
  },
  {
   "cell_type": "code",
   "execution_count": 49,
   "metadata": {
    "collapsed": false
   },
   "outputs": [
    {
     "data": {
      "text/html": [
       "<div>\n",
       "<table border=\"1\" class=\"dataframe\">\n",
       "  <thead>\n",
       "    <tr style=\"text-align: right;\">\n",
       "      <th></th>\n",
       "      <th>userId</th>\n",
       "      <th>click_per_hr</th>\n",
       "    </tr>\n",
       "  </thead>\n",
       "  <tbody>\n",
       "    <tr>\n",
       "      <th>0</th>\n",
       "      <td>0</td>\n",
       "      <td>7.700833</td>\n",
       "    </tr>\n",
       "    <tr>\n",
       "      <th>1</th>\n",
       "      <td>1</td>\n",
       "      <td>1.663700</td>\n",
       "    </tr>\n",
       "    <tr>\n",
       "      <th>2</th>\n",
       "      <td>2</td>\n",
       "      <td>0.850011</td>\n",
       "    </tr>\n",
       "    <tr>\n",
       "      <th>3</th>\n",
       "      <td>6</td>\n",
       "      <td>1.216216</td>\n",
       "    </tr>\n",
       "    <tr>\n",
       "      <th>4</th>\n",
       "      <td>8</td>\n",
       "      <td>2.826389</td>\n",
       "    </tr>\n",
       "  </tbody>\n",
       "</table>\n",
       "</div>"
      ],
      "text/plain": [
       "   userId  click_per_hr\n",
       "0       0      7.700833\n",
       "1       1      1.663700\n",
       "2       2      0.850011\n",
       "3       6      1.216216\n",
       "4       8      2.826389"
      ]
     },
     "execution_count": 49,
     "metadata": {},
     "output_type": "execute_result"
    }
   ],
   "source": [
    "clickPerHour = clickCombined.groupby(\"userId\")['click_per_hr'].mean().reset_index()\n",
    "clickPerHour.head(5)"
   ]
  },
  {
   "cell_type": "code",
   "execution_count": 50,
   "metadata": {
    "collapsed": false
   },
   "outputs": [
    {
     "data": {
      "text/html": [
       "<div>\n",
       "<table border=\"1\" class=\"dataframe\">\n",
       "  <thead>\n",
       "    <tr style=\"text-align: right;\">\n",
       "      <th></th>\n",
       "      <th>userId</th>\n",
       "      <th>avg_level</th>\n",
       "    </tr>\n",
       "  </thead>\n",
       "  <tbody>\n",
       "    <tr>\n",
       "      <th>0</th>\n",
       "      <td>0</td>\n",
       "      <td>2.757934</td>\n",
       "    </tr>\n",
       "    <tr>\n",
       "      <th>1</th>\n",
       "      <td>1</td>\n",
       "      <td>4.518156</td>\n",
       "    </tr>\n",
       "    <tr>\n",
       "      <th>2</th>\n",
       "      <td>2</td>\n",
       "      <td>5.952381</td>\n",
       "    </tr>\n",
       "    <tr>\n",
       "      <th>3</th>\n",
       "      <td>6</td>\n",
       "      <td>7.403974</td>\n",
       "    </tr>\n",
       "    <tr>\n",
       "      <th>4</th>\n",
       "      <td>8</td>\n",
       "      <td>5.389474</td>\n",
       "    </tr>\n",
       "  </tbody>\n",
       "</table>\n",
       "</div>"
      ],
      "text/plain": [
       "   userId  avg_level\n",
       "0       0   2.757934\n",
       "1       1   4.518156\n",
       "2       2   5.952381\n",
       "3       6   7.403974\n",
       "4       8   5.389474"
      ]
     },
     "execution_count": 50,
     "metadata": {},
     "output_type": "execute_result"
    }
   ],
   "source": [
    "level = gameDF.groupby(\"userId\")['teamLevel'].mean().reset_index()\n",
    "level.columns=['userId','avg_level']\n",
    "level.head(5)"
   ]
  },
  {
   "cell_type": "code",
   "execution_count": 51,
   "metadata": {
    "collapsed": false
   },
   "outputs": [
    {
     "data": {
      "text/html": [
       "<div>\n",
       "<table border=\"1\" class=\"dataframe\">\n",
       "  <thead>\n",
       "    <tr style=\"text-align: right;\">\n",
       "      <th></th>\n",
       "      <th>userId</th>\n",
       "      <th>accuracy</th>\n",
       "    </tr>\n",
       "  </thead>\n",
       "  <tbody>\n",
       "    <tr>\n",
       "      <th>0</th>\n",
       "      <td>0</td>\n",
       "      <td>10.553506</td>\n",
       "    </tr>\n",
       "    <tr>\n",
       "      <th>1</th>\n",
       "      <td>1</td>\n",
       "      <td>13.407821</td>\n",
       "    </tr>\n",
       "    <tr>\n",
       "      <th>2</th>\n",
       "      <td>2</td>\n",
       "      <td>9.523810</td>\n",
       "    </tr>\n",
       "    <tr>\n",
       "      <th>3</th>\n",
       "      <td>6</td>\n",
       "      <td>10.596026</td>\n",
       "    </tr>\n",
       "    <tr>\n",
       "      <th>4</th>\n",
       "      <td>8</td>\n",
       "      <td>10.000000</td>\n",
       "    </tr>\n",
       "  </tbody>\n",
       "</table>\n",
       "</div>"
      ],
      "text/plain": [
       "   userId   accuracy\n",
       "0       0  10.553506\n",
       "1       1  13.407821\n",
       "2       2   9.523810\n",
       "3       6  10.596026\n",
       "4       8  10.000000"
      ]
     },
     "execution_count": 51,
     "metadata": {},
     "output_type": "execute_result"
    }
   ],
   "source": [
    "# filter only top3 buyer game info\n",
    "# How many hits they made?\n",
    "hits = gameDF.groupby('userId')['isHit'].sum()\n",
    "# What is the total number of challenge?\n",
    "ttl_cnt = gameDF.groupby('userId')['isHit'].size()\n",
    "# Calculate Hit Accuracy\n",
    "accuracy = pd.DataFrame(100 * hits/ttl_cnt).reset_index()\n",
    "accuracy.columns = ['userId','accuracy']\n",
    "accuracy.head(5)"
   ]
  },
  {
   "cell_type": "code",
   "execution_count": 52,
   "metadata": {
    "collapsed": false
   },
   "outputs": [
    {
     "data": {
      "text/plain": [
       "<matplotlib.axes._subplots.AxesSubplot at 0x1179c4cd0>"
      ]
     },
     "execution_count": 52,
     "metadata": {},
     "output_type": "execute_result"
    },
    {
     "data": {
      "image/png": "[encoded data removed]",
      "text/plain": [
       "<matplotlib.figure.Figure at 0x117f5cc10>"
      ]
     },
     "metadata": {},
     "output_type": "display_data"
    }
   ],
   "source": [
    "accuracy.groupby(\"userId\")['accuracy'].mean().plot.hist(bins=10)"
   ]
  },
  {
   "cell_type": "code",
   "execution_count": 53,
   "metadata": {
    "collapsed": false
   },
   "outputs": [
    {
     "data": {
      "text/html": [
       "<div>\n",
       "<table border=\"1\" class=\"dataframe\">\n",
       "  <thead>\n",
       "    <tr style=\"text-align: right;\">\n",
       "      <th></th>\n",
       "      <th>userId</th>\n",
       "      <th>price</th>\n",
       "    </tr>\n",
       "  </thead>\n",
       "  <tbody>\n",
       "    <tr>\n",
       "      <th>0</th>\n",
       "      <td>1300</td>\n",
       "      <td>3.0</td>\n",
       "    </tr>\n",
       "    <tr>\n",
       "      <th>1</th>\n",
       "      <td>868</td>\n",
       "      <td>10.0</td>\n",
       "    </tr>\n",
       "    <tr>\n",
       "      <th>2</th>\n",
       "      <td>819</td>\n",
       "      <td>20.0</td>\n",
       "    </tr>\n",
       "    <tr>\n",
       "      <th>3</th>\n",
       "      <td>121</td>\n",
       "      <td>3.0</td>\n",
       "    </tr>\n",
       "    <tr>\n",
       "      <th>4</th>\n",
       "      <td>2222</td>\n",
       "      <td>20.0</td>\n",
       "    </tr>\n",
       "  </tbody>\n",
       "</table>\n",
       "</div>"
      ],
      "text/plain": [
       "   userId  price\n",
       "0    1300    3.0\n",
       "1     868   10.0\n",
       "2     819   20.0\n",
       "3     121    3.0\n",
       "4    2222   20.0"
      ]
     },
     "execution_count": 53,
     "metadata": {},
     "output_type": "execute_result"
    }
   ],
   "source": [
    "userPurchases = buyclicksDF[['userId','price']] \n",
    "userPurchases.head(5)"
   ]
  },
  {
   "cell_type": "code",
   "execution_count": 54,
   "metadata": {
    "collapsed": false
   },
   "outputs": [
    {
     "data": {
      "text/html": [
       "<div>\n",
       "<table border=\"1\" class=\"dataframe\">\n",
       "  <thead>\n",
       "    <tr style=\"text-align: right;\">\n",
       "      <th></th>\n",
       "      <th>userId</th>\n",
       "      <th>adCount</th>\n",
       "    </tr>\n",
       "  </thead>\n",
       "  <tbody>\n",
       "    <tr>\n",
       "      <th>0</th>\n",
       "      <td>611</td>\n",
       "      <td>1</td>\n",
       "    </tr>\n",
       "    <tr>\n",
       "      <th>1</th>\n",
       "      <td>1874</td>\n",
       "      <td>1</td>\n",
       "    </tr>\n",
       "    <tr>\n",
       "      <th>2</th>\n",
       "      <td>2139</td>\n",
       "      <td>1</td>\n",
       "    </tr>\n",
       "    <tr>\n",
       "      <th>3</th>\n",
       "      <td>212</td>\n",
       "      <td>1</td>\n",
       "    </tr>\n",
       "    <tr>\n",
       "      <th>4</th>\n",
       "      <td>1027</td>\n",
       "      <td>1</td>\n",
       "    </tr>\n",
       "  </tbody>\n",
       "</table>\n",
       "</div>"
      ],
      "text/plain": [
       "   userId  adCount\n",
       "0     611        1\n",
       "1    1874        1\n",
       "2    2139        1\n",
       "3     212        1\n",
       "4    1027        1"
      ]
     },
     "execution_count": 54,
     "metadata": {},
     "output_type": "execute_result"
    }
   ],
   "source": [
    "useradClicks = adclicksDF[['userId','adCount']]\n",
    "useradClicks.head(5)"
   ]
  },
  {
   "cell_type": "code",
   "execution_count": 55,
   "metadata": {
    "collapsed": false
   },
   "outputs": [
    {
     "data": {
      "text/html": [
       "<div>\n",
       "<table border=\"1\" class=\"dataframe\">\n",
       "  <thead>\n",
       "    <tr style=\"text-align: right;\">\n",
       "      <th></th>\n",
       "      <th>userId</th>\n",
       "      <th>totalAdClicks</th>\n",
       "    </tr>\n",
       "  </thead>\n",
       "  <tbody>\n",
       "    <tr>\n",
       "      <th>0</th>\n",
       "      <td>1</td>\n",
       "      <td>44</td>\n",
       "    </tr>\n",
       "    <tr>\n",
       "      <th>1</th>\n",
       "      <td>8</td>\n",
       "      <td>10</td>\n",
       "    </tr>\n",
       "    <tr>\n",
       "      <th>2</th>\n",
       "      <td>9</td>\n",
       "      <td>37</td>\n",
       "    </tr>\n",
       "    <tr>\n",
       "      <th>3</th>\n",
       "      <td>10</td>\n",
       "      <td>19</td>\n",
       "    </tr>\n",
       "    <tr>\n",
       "      <th>4</th>\n",
       "      <td>12</td>\n",
       "      <td>46</td>\n",
       "    </tr>\n",
       "  </tbody>\n",
       "</table>\n",
       "</div>"
      ],
      "text/plain": [
       "   userId  totalAdClicks\n",
       "0       1             44\n",
       "1       8             10\n",
       "2       9             37\n",
       "3      10             19\n",
       "4      12             46"
      ]
     },
     "execution_count": 55,
     "metadata": {},
     "output_type": "execute_result"
    }
   ],
   "source": [
    "adsPerUser = useradClicks.groupby('userId').sum()\n",
    "adsPerUser = adsPerUser.reset_index()\n",
    "adsPerUser.columns = ['userId', 'totalAdClicks'] #rename the columns\n",
    "adsPerUser.head(n=5)"
   ]
  },
  {
   "cell_type": "code",
   "execution_count": 56,
   "metadata": {
    "collapsed": false
   },
   "outputs": [
    {
     "data": {
      "text/html": [
       "<div>\n",
       "<table border=\"1\" class=\"dataframe\">\n",
       "  <thead>\n",
       "    <tr style=\"text-align: right;\">\n",
       "      <th></th>\n",
       "      <th>userId</th>\n",
       "      <th>revenue</th>\n",
       "    </tr>\n",
       "  </thead>\n",
       "  <tbody>\n",
       "    <tr>\n",
       "      <th>0</th>\n",
       "      <td>1</td>\n",
       "      <td>21.0</td>\n",
       "    </tr>\n",
       "    <tr>\n",
       "      <th>1</th>\n",
       "      <td>8</td>\n",
       "      <td>53.0</td>\n",
       "    </tr>\n",
       "    <tr>\n",
       "      <th>2</th>\n",
       "      <td>9</td>\n",
       "      <td>80.0</td>\n",
       "    </tr>\n",
       "    <tr>\n",
       "      <th>3</th>\n",
       "      <td>10</td>\n",
       "      <td>11.0</td>\n",
       "    </tr>\n",
       "    <tr>\n",
       "      <th>4</th>\n",
       "      <td>12</td>\n",
       "      <td>215.0</td>\n",
       "    </tr>\n",
       "  </tbody>\n",
       "</table>\n",
       "</div>"
      ],
      "text/plain": [
       "   userId  revenue\n",
       "0       1     21.0\n",
       "1       8     53.0\n",
       "2       9     80.0\n",
       "3      10     11.0\n",
       "4      12    215.0"
      ]
     },
     "execution_count": 56,
     "metadata": {},
     "output_type": "execute_result"
    }
   ],
   "source": [
    "revenuePerUser = userPurchases.groupby('userId').sum()\n",
    "revenuePerUser = revenuePerUser.reset_index()\n",
    "revenuePerUser.columns = ['userId', 'revenue'] #rename the columns\n",
    "revenuePerUser.head(n=5)"
   ]
  },
  {
   "cell_type": "code",
   "execution_count": 57,
   "metadata": {
    "collapsed": false
   },
   "outputs": [
    {
     "data": {
      "text/html": [
       "<div>\n",
       "<table border=\"1\" class=\"dataframe\">\n",
       "  <thead>\n",
       "    <tr style=\"text-align: right;\">\n",
       "      <th></th>\n",
       "      <th>userId</th>\n",
       "      <th>totalAdClicks</th>\n",
       "      <th>revenue</th>\n",
       "      <th>accuracy</th>\n",
       "      <th>avg_hr</th>\n",
       "      <th>ttl_hr</th>\n",
       "      <th>avg_level</th>\n",
       "      <th>click_per_hr</th>\n",
       "    </tr>\n",
       "  </thead>\n",
       "  <tbody>\n",
       "    <tr>\n",
       "      <th>0</th>\n",
       "      <td>1</td>\n",
       "      <td>44</td>\n",
       "      <td>21.0</td>\n",
       "      <td>13.407821</td>\n",
       "      <td>62.285714</td>\n",
       "      <td>436.0</td>\n",
       "      <td>4.518156</td>\n",
       "      <td>1.663700</td>\n",
       "    </tr>\n",
       "    <tr>\n",
       "      <th>1</th>\n",
       "      <td>8</td>\n",
       "      <td>10</td>\n",
       "      <td>53.0</td>\n",
       "      <td>10.000000</td>\n",
       "      <td>40.000000</td>\n",
       "      <td>80.0</td>\n",
       "      <td>5.389474</td>\n",
       "      <td>2.826389</td>\n",
       "    </tr>\n",
       "    <tr>\n",
       "      <th>2</th>\n",
       "      <td>9</td>\n",
       "      <td>37</td>\n",
       "      <td>80.0</td>\n",
       "      <td>12.204724</td>\n",
       "      <td>62.500000</td>\n",
       "      <td>375.0</td>\n",
       "      <td>5.440945</td>\n",
       "      <td>1.260176</td>\n",
       "    </tr>\n",
       "    <tr>\n",
       "      <th>3</th>\n",
       "      <td>10</td>\n",
       "      <td>19</td>\n",
       "      <td>11.0</td>\n",
       "      <td>10.943032</td>\n",
       "      <td>50.800000</td>\n",
       "      <td>254.0</td>\n",
       "      <td>2.918571</td>\n",
       "      <td>13.021472</td>\n",
       "    </tr>\n",
       "    <tr>\n",
       "      <th>4</th>\n",
       "      <td>12</td>\n",
       "      <td>46</td>\n",
       "      <td>215.0</td>\n",
       "      <td>13.068182</td>\n",
       "      <td>59.142857</td>\n",
       "      <td>414.0</td>\n",
       "      <td>4.637784</td>\n",
       "      <td>1.920173</td>\n",
       "    </tr>\n",
       "  </tbody>\n",
       "</table>\n",
       "</div>"
      ],
      "text/plain": [
       "   userId  totalAdClicks  revenue   accuracy     avg_hr  ttl_hr  avg_level  \\\n",
       "0       1             44     21.0  13.407821  62.285714   436.0   4.518156   \n",
       "1       8             10     53.0  10.000000  40.000000    80.0   5.389474   \n",
       "2       9             37     80.0  12.204724  62.500000   375.0   5.440945   \n",
       "3      10             19     11.0  10.943032  50.800000   254.0   2.918571   \n",
       "4      12             46    215.0  13.068182  59.142857   414.0   4.637784   \n",
       "\n",
       "   click_per_hr  \n",
       "0      1.663700  \n",
       "1      2.826389  \n",
       "2      1.260176  \n",
       "3     13.021472  \n",
       "4      1.920173  "
      ]
     },
     "execution_count": 57,
     "metadata": {},
     "output_type": "execute_result"
    }
   ],
   "source": [
    "combinedDF = adsPerUser.merge(revenuePerUser, on='userId') #userId, adCount, price\n",
    "combinedDF = combinedDF.merge(accuracy, on='userId')\n",
    "combinedDF = combinedDF.merge(duration, on='userId')\n",
    "combinedDF = combinedDF.merge(level, on='userId')\n",
    "combinedDF = combinedDF.merge(clickPerHour, on='userId')\n",
    "clickPerHour\n",
    "combinedDF.head(5)"
   ]
  },
  {
   "cell_type": "code",
   "execution_count": 58,
   "metadata": {
    "collapsed": false
   },
   "outputs": [
    {
     "data": {
      "text/plain": [
       "<matplotlib.axes._subplots.AxesSubplot at 0x1182655d0>"
      ]
     },
     "execution_count": 58,
     "metadata": {},
     "output_type": "execute_result"
    },
    {
     "data": {
      "image/png": "[encoded data removed]",
      "text/plain": [
       "<matplotlib.figure.Figure at 0x1179ece90>"
      ]
     },
     "metadata": {},
     "output_type": "display_data"
    }
   ],
   "source": [
    "combinedDF.plot.scatter('revenue','totalAdClicks')"
   ]
  },
  {
   "cell_type": "code",
   "execution_count": 62,
   "metadata": {
    "collapsed": false
   },
   "outputs": [
    {
     "data": {
      "text/html": [
       "<div>\n",
       "<table border=\"1\" class=\"dataframe\">\n",
       "  <thead>\n",
       "    <tr style=\"text-align: right;\">\n",
       "      <th></th>\n",
       "      <th>totalAdClicks</th>\n",
       "      <th>revenue</th>\n",
       "      <th>accuracy</th>\n",
       "      <th>click_per_hr</th>\n",
       "      <th>avg_level</th>\n",
       "      <th>ttl_hr</th>\n",
       "    </tr>\n",
       "  </thead>\n",
       "  <tbody>\n",
       "    <tr>\n",
       "      <th>0</th>\n",
       "      <td>44</td>\n",
       "      <td>21.0</td>\n",
       "      <td>13.407821</td>\n",
       "      <td>1.663700</td>\n",
       "      <td>4.518156</td>\n",
       "      <td>436.0</td>\n",
       "    </tr>\n",
       "    <tr>\n",
       "      <th>1</th>\n",
       "      <td>10</td>\n",
       "      <td>53.0</td>\n",
       "      <td>10.000000</td>\n",
       "      <td>2.826389</td>\n",
       "      <td>5.389474</td>\n",
       "      <td>80.0</td>\n",
       "    </tr>\n",
       "    <tr>\n",
       "      <th>2</th>\n",
       "      <td>37</td>\n",
       "      <td>80.0</td>\n",
       "      <td>12.204724</td>\n",
       "      <td>1.260176</td>\n",
       "      <td>5.440945</td>\n",
       "      <td>375.0</td>\n",
       "    </tr>\n",
       "    <tr>\n",
       "      <th>3</th>\n",
       "      <td>19</td>\n",
       "      <td>11.0</td>\n",
       "      <td>10.943032</td>\n",
       "      <td>13.021472</td>\n",
       "      <td>2.918571</td>\n",
       "      <td>254.0</td>\n",
       "    </tr>\n",
       "    <tr>\n",
       "      <th>4</th>\n",
       "      <td>46</td>\n",
       "      <td>215.0</td>\n",
       "      <td>13.068182</td>\n",
       "      <td>1.920173</td>\n",
       "      <td>4.637784</td>\n",
       "      <td>414.0</td>\n",
       "    </tr>\n",
       "  </tbody>\n",
       "</table>\n",
       "</div>"
      ],
      "text/plain": [
       "   totalAdClicks  revenue   accuracy  click_per_hr  avg_level  ttl_hr\n",
       "0             44     21.0  13.407821      1.663700   4.518156   436.0\n",
       "1             10     53.0  10.000000      2.826389   5.389474    80.0\n",
       "2             37     80.0  12.204724      1.260176   5.440945   375.0\n",
       "3             19     11.0  10.943032     13.021472   2.918571   254.0\n",
       "4             46    215.0  13.068182      1.920173   4.637784   414.0"
      ]
     },
     "execution_count": 62,
     "metadata": {},
     "output_type": "execute_result"
    }
   ],
   "source": [
    "trainingDF = combinedDF[['totalAdClicks','revenue','accuracy','click_per_hr','avg_level','ttl_hr']]\n",
    "trainingDF.head(n=5)"
   ]
  },
  {
   "cell_type": "code",
   "execution_count": 64,
   "metadata": {
    "collapsed": false
   },
   "outputs": [
    {
     "data": {
      "text/plain": [
       "(528, 6)"
      ]
     },
     "execution_count": 64,
     "metadata": {},
     "output_type": "execute_result"
    }
   ],
   "source": [
    "trainingDF.shape"
   ]
  },
  {
   "cell_type": "code",
   "execution_count": 63,
   "metadata": {
    "collapsed": false
   },
   "outputs": [
    {
     "name": "stdout",
     "output_type": "stream",
     "text": [
      "done\n"
     ]
    }
   ],
   "source": [
    "trainingDF.to_csv(\"training.csv\",index=False)\n",
    "print(\"done\")"
   ]
  },
  {
   "cell_type": "code",
   "execution_count": 66,
   "metadata": {
    "collapsed": false
   },
   "outputs": [
    {
     "data": {
      "text/html": [
       "<div>\n",
       "<table border=\"1\" class=\"dataframe\">\n",
       "  <thead>\n",
       "    <tr style=\"text-align: right;\">\n",
       "      <th></th>\n",
       "      <th>0</th>\n",
       "      <th>1</th>\n",
       "      <th>2</th>\n",
       "      <th>3</th>\n",
       "      <th>4</th>\n",
       "      <th>5</th>\n",
       "    </tr>\n",
       "  </thead>\n",
       "  <tbody>\n",
       "    <tr>\n",
       "      <th>0</th>\n",
       "      <td>totalAdClicks</td>\n",
       "      <td>revenue</td>\n",
       "      <td>accuracy</td>\n",
       "      <td>click_per_hr</td>\n",
       "      <td>avg_level</td>\n",
       "      <td>ttl_hr</td>\n",
       "    </tr>\n",
       "    <tr>\n",
       "      <th>1</th>\n",
       "      <td>44.3721</td>\n",
       "      <td>58.3488</td>\n",
       "      <td>11.7338</td>\n",
       "      <td>1.99138</td>\n",
       "      <td>4.69236</td>\n",
       "      <td>423.828</td>\n",
       "    </tr>\n",
       "    <tr>\n",
       "      <th>2</th>\n",
       "      <td>27.8954</td>\n",
       "      <td>35.3268</td>\n",
       "      <td>11.3996</td>\n",
       "      <td>3.48512</td>\n",
       "      <td>5.35885</td>\n",
       "      <td>252.693</td>\n",
       "    </tr>\n",
       "    <tr>\n",
       "      <th>3</th>\n",
       "      <td>13.0563</td>\n",
       "      <td>19.8313</td>\n",
       "      <td>10.9588</td>\n",
       "      <td>3.58716</td>\n",
       "      <td>5.79436</td>\n",
       "      <td>92.4562</td>\n",
       "    </tr>\n",
       "  </tbody>\n",
       "</table>\n",
       "</div>"
      ],
      "text/plain": [
       "               0        1         2             3          4        5\n",
       "0  totalAdClicks  revenue  accuracy  click_per_hr  avg_level   ttl_hr\n",
       "1        44.3721  58.3488   11.7338       1.99138    4.69236  423.828\n",
       "2        27.8954  35.3268   11.3996       3.48512    5.35885  252.693\n",
       "3        13.0563  19.8313   10.9588       3.58716    5.79436  92.4562"
      ]
     },
     "execution_count": 66,
     "metadata": {},
     "output_type": "execute_result"
    }
   ],
   "source": [
    "result = [\n",
    "    trainingDF.columns,\n",
    "[  44.37209302,   58.34883721,   11.7337892 ,    1.99138353, 4.69236249,  423.82790698], \n",
    "[  27.89542484,   35.32679739,   11.39957432,    3.48512431, 5.35885299,  252.69281046], \n",
    "[ 13.05625   ,  19.83125   ,  10.95881922,   3.58715502, 5.79436144,  92.45625   ]\n",
    "]\n",
    "pd.DataFrame(result)"
   ]
  }
 ],
 "metadata": {
  "kernelspec": {
   "display_name": "Python 2",
   "language": "python",
   "name": "python2"
  },
  "language_info": {
   "codemirror_mode": {
    "name": "ipython",
    "version": 2
   },
   "file_extension": ".py",
   "mimetype": "text/x-python",
   "name": "python",
   "nbconvert_exporter": "python",
   "pygments_lexer": "ipython2",
   "version": "2.7.11"
  }
 },
 "nbformat": 4,
 "nbformat_minor": 0
}
